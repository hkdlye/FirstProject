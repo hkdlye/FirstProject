{
 "cells": [
  {
   "cell_type": "code",
   "execution_count": 1,
   "metadata": {},
   "outputs": [],
   "source": [
    "import pandas as pd"
   ]
  },
  {
   "cell_type": "code",
   "execution_count": 6,
   "metadata": {
    "collapsed": true
   },
   "outputs": [
    {
     "data": {
      "text/html": [
       "<div>\n",
       "<style scoped>\n",
       "    .dataframe tbody tr th:only-of-type {\n",
       "        vertical-align: middle;\n",
       "    }\n",
       "\n",
       "    .dataframe tbody tr th {\n",
       "        vertical-align: top;\n",
       "    }\n",
       "\n",
       "    .dataframe thead th {\n",
       "        text-align: right;\n",
       "    }\n",
       "</style>\n",
       "<table border=\"1\" class=\"dataframe\">\n",
       "  <thead>\n",
       "    <tr style=\"text-align: right;\">\n",
       "      <th></th>\n",
       "      <th>0</th>\n",
       "      <th>1</th>\n",
       "      <th>2</th>\n",
       "      <th>3</th>\n",
       "      <th>4</th>\n",
       "      <th>5</th>\n",
       "      <th>6</th>\n",
       "      <th>7</th>\n",
       "      <th>8</th>\n",
       "    </tr>\n",
       "  </thead>\n",
       "  <tbody>\n",
       "    <tr>\n",
       "      <td>0</td>\n",
       "      <td>18.0</td>\n",
       "      <td>8</td>\n",
       "      <td>307.0</td>\n",
       "      <td>130.0</td>\n",
       "      <td>3504.0</td>\n",
       "      <td>12.0</td>\n",
       "      <td>70</td>\n",
       "      <td>1</td>\n",
       "      <td>chevrolet chevelle malibu</td>\n",
       "    </tr>\n",
       "    <tr>\n",
       "      <td>1</td>\n",
       "      <td>15.0</td>\n",
       "      <td>8</td>\n",
       "      <td>350.0</td>\n",
       "      <td>165.0</td>\n",
       "      <td>3693.0</td>\n",
       "      <td>11.5</td>\n",
       "      <td>70</td>\n",
       "      <td>1</td>\n",
       "      <td>buick skylark 320</td>\n",
       "    </tr>\n",
       "    <tr>\n",
       "      <td>2</td>\n",
       "      <td>18.0</td>\n",
       "      <td>8</td>\n",
       "      <td>318.0</td>\n",
       "      <td>150.0</td>\n",
       "      <td>3436.0</td>\n",
       "      <td>11.0</td>\n",
       "      <td>70</td>\n",
       "      <td>1</td>\n",
       "      <td>plymouth satellite</td>\n",
       "    </tr>\n",
       "    <tr>\n",
       "      <td>3</td>\n",
       "      <td>16.0</td>\n",
       "      <td>8</td>\n",
       "      <td>304.0</td>\n",
       "      <td>150.0</td>\n",
       "      <td>3433.0</td>\n",
       "      <td>12.0</td>\n",
       "      <td>70</td>\n",
       "      <td>1</td>\n",
       "      <td>amc rebel sst</td>\n",
       "    </tr>\n",
       "    <tr>\n",
       "      <td>4</td>\n",
       "      <td>17.0</td>\n",
       "      <td>8</td>\n",
       "      <td>302.0</td>\n",
       "      <td>140.0</td>\n",
       "      <td>3449.0</td>\n",
       "      <td>10.5</td>\n",
       "      <td>70</td>\n",
       "      <td>1</td>\n",
       "      <td>ford torino</td>\n",
       "    </tr>\n",
       "    <tr>\n",
       "      <td>...</td>\n",
       "      <td>...</td>\n",
       "      <td>...</td>\n",
       "      <td>...</td>\n",
       "      <td>...</td>\n",
       "      <td>...</td>\n",
       "      <td>...</td>\n",
       "      <td>...</td>\n",
       "      <td>...</td>\n",
       "      <td>...</td>\n",
       "    </tr>\n",
       "    <tr>\n",
       "      <td>393</td>\n",
       "      <td>27.0</td>\n",
       "      <td>4</td>\n",
       "      <td>140.0</td>\n",
       "      <td>86.00</td>\n",
       "      <td>2790.0</td>\n",
       "      <td>15.6</td>\n",
       "      <td>82</td>\n",
       "      <td>1</td>\n",
       "      <td>ford mustang gl</td>\n",
       "    </tr>\n",
       "    <tr>\n",
       "      <td>394</td>\n",
       "      <td>44.0</td>\n",
       "      <td>4</td>\n",
       "      <td>97.0</td>\n",
       "      <td>52.00</td>\n",
       "      <td>2130.0</td>\n",
       "      <td>24.6</td>\n",
       "      <td>82</td>\n",
       "      <td>2</td>\n",
       "      <td>vw pickup</td>\n",
       "    </tr>\n",
       "    <tr>\n",
       "      <td>395</td>\n",
       "      <td>32.0</td>\n",
       "      <td>4</td>\n",
       "      <td>135.0</td>\n",
       "      <td>84.00</td>\n",
       "      <td>2295.0</td>\n",
       "      <td>11.6</td>\n",
       "      <td>82</td>\n",
       "      <td>1</td>\n",
       "      <td>dodge rampage</td>\n",
       "    </tr>\n",
       "    <tr>\n",
       "      <td>396</td>\n",
       "      <td>28.0</td>\n",
       "      <td>4</td>\n",
       "      <td>120.0</td>\n",
       "      <td>79.00</td>\n",
       "      <td>2625.0</td>\n",
       "      <td>18.6</td>\n",
       "      <td>82</td>\n",
       "      <td>1</td>\n",
       "      <td>ford ranger</td>\n",
       "    </tr>\n",
       "    <tr>\n",
       "      <td>397</td>\n",
       "      <td>31.0</td>\n",
       "      <td>4</td>\n",
       "      <td>119.0</td>\n",
       "      <td>82.00</td>\n",
       "      <td>2720.0</td>\n",
       "      <td>19.4</td>\n",
       "      <td>82</td>\n",
       "      <td>1</td>\n",
       "      <td>chevy s-10</td>\n",
       "    </tr>\n",
       "  </tbody>\n",
       "</table>\n",
       "<p>398 rows × 9 columns</p>\n",
       "</div>"
      ],
      "text/plain": [
       "        0  1      2      3       4     5   6  7                          8\n",
       "0    18.0  8  307.0  130.0  3504.0  12.0  70  1  chevrolet chevelle malibu\n",
       "1    15.0  8  350.0  165.0  3693.0  11.5  70  1          buick skylark 320\n",
       "2    18.0  8  318.0  150.0  3436.0  11.0  70  1         plymouth satellite\n",
       "3    16.0  8  304.0  150.0  3433.0  12.0  70  1              amc rebel sst\n",
       "4    17.0  8  302.0  140.0  3449.0  10.5  70  1                ford torino\n",
       "..    ... ..    ...    ...     ...   ...  .. ..                        ...\n",
       "393  27.0  4  140.0  86.00  2790.0  15.6  82  1            ford mustang gl\n",
       "394  44.0  4   97.0  52.00  2130.0  24.6  82  2                  vw pickup\n",
       "395  32.0  4  135.0  84.00  2295.0  11.6  82  1              dodge rampage\n",
       "396  28.0  4  120.0  79.00  2625.0  18.6  82  1                ford ranger\n",
       "397  31.0  4  119.0  82.00  2720.0  19.4  82  1                 chevy s-10\n",
       "\n",
       "[398 rows x 9 columns]"
      ]
     },
     "execution_count": 6,
     "metadata": {},
     "output_type": "execute_result"
    }
   ],
   "source": [
    "df = pd.read_csv(\"./data/data_pd/part3/auto-mpg.csv\", header=None)\n",
    "df"
   ]
  },
  {
   "cell_type": "code",
   "execution_count": 8,
   "metadata": {},
   "outputs": [],
   "source": [
    "df.columns = ['mpg', 'cylinders', 'displacemnt', 'hirsepower', 'weight', 'acceleration', 'model year', 'origin', \"name\"]"
   ]
  },
  {
   "cell_type": "code",
   "execution_count": 9,
   "metadata": {
    "collapsed": true
   },
   "outputs": [
    {
     "name": "stdout",
     "output_type": "stream",
     "text": [
      "    mpg  cylinders  displacemnt hirsepower  weight  acceleration  model year  \\\n",
      "0  18.0          8        307.0      130.0  3504.0          12.0          70   \n",
      "1  15.0          8        350.0      165.0  3693.0          11.5          70   \n",
      "2  18.0          8        318.0      150.0  3436.0          11.0          70   \n",
      "3  16.0          8        304.0      150.0  3433.0          12.0          70   \n",
      "4  17.0          8        302.0      140.0  3449.0          10.5          70   \n",
      "\n",
      "   origin                       name  \n",
      "0       1  chevrolet chevelle malibu  \n",
      "1       1          buick skylark 320  \n",
      "2       1         plymouth satellite  \n",
      "3       1              amc rebel sst  \n",
      "4       1                ford torino  \n"
     ]
    }
   ],
   "source": [
    "print(df.head())"
   ]
  },
  {
   "cell_type": "code",
   "execution_count": 10,
   "metadata": {
    "collapsed": true
   },
   "outputs": [
    {
     "name": "stdout",
     "output_type": "stream",
     "text": [
      "      mpg  cylinders  displacemnt hirsepower  weight  acceleration  \\\n",
      "393  27.0          4        140.0      86.00  2790.0          15.6   \n",
      "394  44.0          4         97.0      52.00  2130.0          24.6   \n",
      "395  32.0          4        135.0      84.00  2295.0          11.6   \n",
      "396  28.0          4        120.0      79.00  2625.0          18.6   \n",
      "397  31.0          4        119.0      82.00  2720.0          19.4   \n",
      "\n",
      "     model year  origin             name  \n",
      "393          82       1  ford mustang gl  \n",
      "394          82       2        vw pickup  \n",
      "395          82       1    dodge rampage  \n",
      "396          82       1      ford ranger  \n",
      "397          82       1       chevy s-10  \n"
     ]
    }
   ],
   "source": [
    "print(df.tail())"
   ]
  },
  {
   "cell_type": "code",
   "execution_count": 11,
   "metadata": {},
   "outputs": [
    {
     "name": "stdout",
     "output_type": "stream",
     "text": [
      "(398, 9)\n"
     ]
    }
   ],
   "source": [
    "print(df.shape)"
   ]
  },
  {
   "cell_type": "code",
   "execution_count": 12,
   "metadata": {
    "collapsed": true
   },
   "outputs": [
    {
     "name": "stdout",
     "output_type": "stream",
     "text": [
      "<class 'pandas.core.frame.DataFrame'>\n",
      "RangeIndex: 398 entries, 0 to 397\n",
      "Data columns (total 9 columns):\n",
      "mpg             398 non-null float64\n",
      "cylinders       398 non-null int64\n",
      "displacemnt     398 non-null float64\n",
      "hirsepower      398 non-null object\n",
      "weight          398 non-null float64\n",
      "acceleration    398 non-null float64\n",
      "model year      398 non-null int64\n",
      "origin          398 non-null int64\n",
      "name            398 non-null object\n",
      "dtypes: float64(4), int64(3), object(2)\n",
      "memory usage: 28.1+ KB\n",
      "None\n"
     ]
    }
   ],
   "source": [
    "print(df.info())"
   ]
  },
  {
   "cell_type": "code",
   "execution_count": 14,
   "metadata": {
    "collapsed": true
   },
   "outputs": [
    {
     "name": "stdout",
     "output_type": "stream",
     "text": [
      "mpg             float64\n",
      "cylinders         int64\n",
      "displacemnt     float64\n",
      "hirsepower       object\n",
      "weight          float64\n",
      "acceleration    float64\n",
      "model year        int64\n",
      "origin            int64\n",
      "name             object\n",
      "dtype: object\n"
     ]
    }
   ],
   "source": [
    "print(df.dtypes)"
   ]
  },
  {
   "cell_type": "code",
   "execution_count": 15,
   "metadata": {},
   "outputs": [
    {
     "name": "stdout",
     "output_type": "stream",
     "text": [
      "float64\n"
     ]
    }
   ],
   "source": [
    "print(df.mpg.dtypes)"
   ]
  },
  {
   "cell_type": "code",
   "execution_count": 16,
   "metadata": {
    "collapsed": true
   },
   "outputs": [
    {
     "name": "stdout",
     "output_type": "stream",
     "text": [
      "              mpg   cylinders  displacemnt       weight  acceleration  \\\n",
      "count  398.000000  398.000000   398.000000   398.000000    398.000000   \n",
      "mean    23.514573    5.454774   193.425879  2970.424623     15.568090   \n",
      "std      7.815984    1.701004   104.269838   846.841774      2.757689   \n",
      "min      9.000000    3.000000    68.000000  1613.000000      8.000000   \n",
      "25%     17.500000    4.000000   104.250000  2223.750000     13.825000   \n",
      "50%     23.000000    4.000000   148.500000  2803.500000     15.500000   \n",
      "75%     29.000000    8.000000   262.000000  3608.000000     17.175000   \n",
      "max     46.600000    8.000000   455.000000  5140.000000     24.800000   \n",
      "\n",
      "       model year      origin  \n",
      "count  398.000000  398.000000  \n",
      "mean    76.010050    1.572864  \n",
      "std      3.697627    0.802055  \n",
      "min     70.000000    1.000000  \n",
      "25%     73.000000    1.000000  \n",
      "50%     76.000000    1.000000  \n",
      "75%     79.000000    2.000000  \n",
      "max     82.000000    3.000000  \n",
      "\n",
      "\n",
      "               mpg   cylinders  displacemnt hirsepower       weight  \\\n",
      "count   398.000000  398.000000   398.000000        398   398.000000   \n",
      "unique         NaN         NaN          NaN         94          NaN   \n",
      "top            NaN         NaN          NaN      150.0          NaN   \n",
      "freq           NaN         NaN          NaN         22          NaN   \n",
      "mean     23.514573    5.454774   193.425879        NaN  2970.424623   \n",
      "std       7.815984    1.701004   104.269838        NaN   846.841774   \n",
      "min       9.000000    3.000000    68.000000        NaN  1613.000000   \n",
      "25%      17.500000    4.000000   104.250000        NaN  2223.750000   \n",
      "50%      23.000000    4.000000   148.500000        NaN  2803.500000   \n",
      "75%      29.000000    8.000000   262.000000        NaN  3608.000000   \n",
      "max      46.600000    8.000000   455.000000        NaN  5140.000000   \n",
      "\n",
      "        acceleration  model year      origin        name  \n",
      "count     398.000000  398.000000  398.000000         398  \n",
      "unique           NaN         NaN         NaN         305  \n",
      "top              NaN         NaN         NaN  ford pinto  \n",
      "freq             NaN         NaN         NaN           6  \n",
      "mean       15.568090   76.010050    1.572864         NaN  \n",
      "std         2.757689    3.697627    0.802055         NaN  \n",
      "min         8.000000   70.000000    1.000000         NaN  \n",
      "25%        13.825000   73.000000    1.000000         NaN  \n",
      "50%        15.500000   76.000000    1.000000         NaN  \n",
      "75%        17.175000   79.000000    2.000000         NaN  \n",
      "max        24.800000   82.000000    3.000000         NaN  \n"
     ]
    }
   ],
   "source": [
    "print(df.describe())\n",
    "print(\"\\n\")\n",
    "print(df.describe(include='all'))"
   ]
  },
  {
   "cell_type": "code",
   "execution_count": 17,
   "metadata": {},
   "outputs": [
    {
     "name": "stdout",
     "output_type": "stream",
     "text": [
      "mpg             398\n",
      "cylinders       398\n",
      "displacemnt     398\n",
      "hirsepower      398\n",
      "weight          398\n",
      "acceleration    398\n",
      "model year      398\n",
      "origin          398\n",
      "name            398\n",
      "dtype: int64\n",
      "<class 'pandas.core.series.Series'>\n"
     ]
    }
   ],
   "source": [
    "print(df.count())\n",
    "print(type(df.count()))"
   ]
  },
  {
   "cell_type": "code",
   "execution_count": 19,
   "metadata": {},
   "outputs": [
    {
     "name": "stdout",
     "output_type": "stream",
     "text": [
      "1    249\n",
      "3     79\n",
      "2     70\n",
      "Name: origin, dtype: int64\n",
      "<class 'pandas.core.series.Series'>\n"
     ]
    }
   ],
   "source": [
    "unique_values = df['origin'].value_counts()\n",
    "print(unique_values)\n",
    "print(type(unique_values))"
   ]
  },
  {
   "cell_type": "code",
   "execution_count": 5,
   "metadata": {},
   "outputs": [],
   "source": [
    "df = pd.read_csv(\"./data/data_pd/part3/auto-mpg.csv\")\n",
    "\n",
    "df.columns = [\"mpg\", \"cylinders\", 'displacement', 'horspower', 'weight', 'acceleration', 'model year', \"origin\", \"name\"]"
   ]
  },
  {
   "cell_type": "code",
   "execution_count": 7,
   "metadata": {},
   "outputs": [
    {
     "name": "stdout",
     "output_type": "stream",
     "text": [
      "mpg               23.528463\n",
      "cylinders          5.448363\n",
      "displacement     193.139798\n",
      "weight          2969.080605\n",
      "acceleration      15.577078\n",
      "model year        76.025189\n",
      "origin             1.574307\n",
      "dtype: float64\n",
      "\n",
      "\n",
      "23.528463476070538\n",
      "23.528463476070538\n",
      "\n",
      "\n",
      "mpg         23.528463\n",
      "weight    2969.080605\n",
      "dtype: float64\n"
     ]
    }
   ],
   "source": [
    "print(df.mean())\n",
    "print(\"\\n\")\n",
    "print(df['mpg'].mean())\n",
    "print(df.mpg.mean())\n",
    "print(\"\\n\")\n",
    "print(df[['mpg', 'weight']].mean())"
   ]
  },
  {
   "cell_type": "code",
   "execution_count": 9,
   "metadata": {},
   "outputs": [
    {
     "name": "stdout",
     "output_type": "stream",
     "text": [
      "mpg               23.0\n",
      "cylinders          4.0\n",
      "displacement     146.0\n",
      "weight          2800.0\n",
      "acceleration      15.5\n",
      "model year        76.0\n",
      "origin             1.0\n",
      "dtype: float64\n",
      "\n",
      "\n",
      "23.0\n"
     ]
    }
   ],
   "source": [
    "print(df.median())\n",
    "print(\"\\n\")\n",
    "print(df['mpg'].median())"
   ]
  },
  {
   "cell_type": "code",
   "execution_count": 10,
   "metadata": {},
   "outputs": [
    {
     "name": "stdout",
     "output_type": "stream",
     "text": [
      "mpg                         46.6\n",
      "cylinders                      8\n",
      "displacement                 455\n",
      "horspower                      ?\n",
      "weight                      5140\n",
      "acceleration                24.8\n",
      "model year                    82\n",
      "origin                         3\n",
      "name            vw rabbit custom\n",
      "dtype: object\n",
      "\n",
      "\n",
      "46.6\n"
     ]
    }
   ],
   "source": [
    "print(df.max())\n",
    "print(\"\\n\")\n",
    "print(df['mpg'].max())"
   ]
  },
  {
   "cell_type": "code",
   "execution_count": 11,
   "metadata": {},
   "outputs": [
    {
     "name": "stdout",
     "output_type": "stream",
     "text": [
      "mpg                                   9\n",
      "cylinders                             3\n",
      "displacement                         68\n",
      "horspower                         100.0\n",
      "weight                             1613\n",
      "acceleration                          8\n",
      "model year                           70\n",
      "origin                                1\n",
      "name            amc ambassador brougham\n",
      "dtype: object\n",
      "\n",
      "\n",
      "9.0\n"
     ]
    }
   ],
   "source": [
    "print(df.min())\n",
    "print(\"\\n\")\n",
    "print(df['mpg'].min())"
   ]
  },
  {
   "cell_type": "code",
   "execution_count": 12,
   "metadata": {},
   "outputs": [
    {
     "name": "stdout",
     "output_type": "stream",
     "text": [
      "mpg               7.820926\n",
      "cylinders         1.698329\n",
      "displacement    104.244898\n",
      "weight          847.485218\n",
      "acceleration      2.755326\n",
      "model year        3.689922\n",
      "origin            0.802549\n",
      "dtype: float64\n",
      "\n",
      "\n",
      "7.820926403236991\n"
     ]
    }
   ],
   "source": [
    "print(df.std())\n",
    "print(\"\\n\")\n",
    "print(df['mpg'].std())"
   ]
  },
  {
   "cell_type": "code",
   "execution_count": 14,
   "metadata": {},
   "outputs": [
    {
     "name": "stdout",
     "output_type": "stream",
     "text": [
      "                   mpg  cylinders  displacement    weight  acceleration  \\\n",
      "mpg           1.000000  -0.775412     -0.803972 -0.831558      0.419133   \n",
      "cylinders    -0.775412   1.000000      0.950718  0.896623     -0.503016   \n",
      "displacement -0.803972   0.950718      1.000000  0.932957     -0.542083   \n",
      "weight       -0.831558   0.896623      0.932957  1.000000     -0.416488   \n",
      "acceleration  0.419133  -0.503016     -0.542083 -0.416488      1.000000   \n",
      "model year    0.578667  -0.344729     -0.367470 -0.305150      0.284376   \n",
      "origin        0.562894  -0.561796     -0.608749 -0.580552      0.204102   \n",
      "\n",
      "              model year    origin  \n",
      "mpg             0.578667  0.562894  \n",
      "cylinders      -0.344729 -0.561796  \n",
      "displacement   -0.367470 -0.608749  \n",
      "weight         -0.305150 -0.580552  \n",
      "acceleration    0.284376  0.204102  \n",
      "model year      1.000000  0.178441  \n",
      "origin          0.178441  1.000000  \n",
      "\n",
      "\n",
      "             mpg    weight\n",
      "mpg     1.000000 -0.831558\n",
      "weight -0.831558  1.000000\n"
     ]
    }
   ],
   "source": [
    "print(df.corr())\n",
    "print(\"\\n\")\n",
    "print(df[['mpg','weight']].corr())"
   ]
  },
  {
   "cell_type": "code",
   "execution_count": 4,
   "metadata": {},
   "outputs": [],
   "source": [
    "df = pd.read_excel(\"./data/data_pd/part3/남북한발전전력량.xlsx\")"
   ]
  },
  {
   "cell_type": "code",
   "execution_count": 8,
   "metadata": {},
   "outputs": [
    {
     "name": "stdout",
     "output_type": "stream",
     "text": [
      "       1991  1992  1993  1994  1995  1996  1997  1998  1999  2000  ...  2007  \\\n",
      "South  1186  1310  1444  1650  1847  2055  2244  2153  2393  2664  ...  4031   \n",
      "North   263   247   221   231   230   213   193   170   186   194  ...   236   \n",
      "\n",
      "       2008  2009  2010  2011  2012  2013  2014  2015  2016  \n",
      "South  4224  4336  4747  4969  5096  5171  5220  5281  5404  \n",
      "North   255   235   237   211   215   221   216   190   239  \n",
      "\n",
      "[2 rows x 26 columns]\n"
     ]
    }
   ],
   "source": [
    "df_ns = df.iloc[[0, 5], 3:]\n",
    "df_ns.index = ['South', 'North']\n",
    "df_ns.columns = df_ns.columns.map(int)\n",
    "print(df_ns.head())"
   ]
  },
  {
   "cell_type": "code",
   "execution_count": 10,
   "metadata": {},
   "outputs": [
    {
     "data": {
      "text/plain": [
       "<matplotlib.axes._subplots.AxesSubplot at 0x1965d892448>"
      ]
     },
     "execution_count": 10,
     "metadata": {},
     "output_type": "execute_result"
    },
    {
     "data": {
      "image/png": "[encoded data removed]",
      "text/plain": [
       "<Figure size 432x288 with 1 Axes>"
      ]
     },
     "metadata": {
      "needs_background": "light"
     },
     "output_type": "display_data"
    }
   ],
   "source": [
    "df_ns.plot()"
   ]
  },
  {
   "cell_type": "code",
   "execution_count": 11,
   "metadata": {},
   "outputs": [
    {
     "name": "stdout",
     "output_type": "stream",
     "text": [
      "     South North\n",
      "1991  1186   263\n",
      "1992  1310   247\n",
      "1993  1444   221\n",
      "1994  1650   231\n",
      "1995  1847   230\n"
     ]
    }
   ],
   "source": [
    "tdf_ns = df_ns.T\n",
    "print(tdf_ns.head())"
   ]
  },
  {
   "cell_type": "code",
   "execution_count": 13,
   "metadata": {},
   "outputs": [
    {
     "data": {
      "text/plain": [
       "<matplotlib.axes._subplots.AxesSubplot at 0x1965d005c88>"
      ]
     },
     "execution_count": 13,
     "metadata": {},
     "output_type": "execute_result"
    },
    {
     "data": {
      "image/png": "[encoded data removed]",
      "text/plain": [
       "<Figure size 432x288 with 1 Axes>"
      ]
     },
     "metadata": {
      "needs_background": "light"
     },
     "output_type": "display_data"
    }
   ],
   "source": [
    "tdf_ns.plot()"
   ]
  },
  {
   "cell_type": "code",
   "execution_count": 14,
   "metadata": {},
   "outputs": [
    {
     "data": {
      "text/plain": [
       "<matplotlib.axes._subplots.AxesSubplot at 0x1965c837d08>"
      ]
     },
     "execution_count": 14,
     "metadata": {},
     "output_type": "execute_result"
    },
    {
     "data": {
      "image/png": "[encoded data removed]",
      "text/plain": [
       "<Figure size 432x288 with 1 Axes>"
      ]
     },
     "metadata": {
      "needs_background": "light"
     },
     "output_type": "display_data"
    }
   ],
   "source": [
    "tdf_ns.plot(kind=\"bar\")"
   ]
  },
  {
   "cell_type": "code",
   "execution_count": 15,
   "metadata": {},
   "outputs": [
    {
     "data": {
      "text/plain": [
       "<matplotlib.axes._subplots.AxesSubplot at 0x1965ef42cc8>"
      ]
     },
     "execution_count": 15,
     "metadata": {},
     "output_type": "execute_result"
    },
    {
     "data": {
      "image/png": "[encoded data removed]",
      "text/plain": [
       "<Figure size 432x288 with 1 Axes>"
      ]
     },
     "metadata": {
      "needs_background": "light"
     },
     "output_type": "display_data"
    }
   ],
   "source": [
    "tdf_ns.plot(kind=\"hist\")"
   ]
  },
  {
   "cell_type": "code",
   "execution_count": 17,
   "metadata": {},
   "outputs": [],
   "source": [
    "df = pd.read_csv(\"./data/data_pd/part3/auto-mpg.csv\")"
   ]
  },
  {
   "cell_type": "code",
   "execution_count": 18,
   "metadata": {},
   "outputs": [],
   "source": [
    "df.columns = ['mpg', 'cylinders','displacement', 'horsepower', 'weight', 'acceleration', 'model year', 'origin', 'name']"
   ]
  },
  {
   "cell_type": "code",
   "execution_count": 19,
   "metadata": {},
   "outputs": [
    {
     "data": {
      "text/plain": [
       "<matplotlib.axes._subplots.AxesSubplot at 0x1965f09e5c8>"
      ]
     },
     "execution_count": 19,
     "metadata": {},
     "output_type": "execute_result"
    },
    {
     "data": {
      "image/png": "[encoded data removed]",
      "text/plain": [
       "<Figure size 432x288 with 1 Axes>"
      ]
     },
     "metadata": {
      "needs_background": "light"
     },
     "output_type": "display_data"
    }
   ],
   "source": [
    "df.plot(x = 'weight', y = 'mpg', kind = 'scatter')"
   ]
  },
  {
   "cell_type": "code",
   "execution_count": 20,
   "metadata": {},
   "outputs": [
    {
     "data": {
      "text/plain": [
       "<matplotlib.axes._subplots.AxesSubplot at 0x196629823c8>"
      ]
     },
     "execution_count": 20,
     "metadata": {},
     "output_type": "execute_result"
    },
    {
     "data": {
      "image/png": "[encoded data removed]",
      "text/plain": [
       "<Figure size 432x288 with 1 Axes>"
      ]
     },
     "metadata": {
      "needs_background": "light"
     },
     "output_type": "display_data"
    }
   ],
   "source": [
    "df[['mpg', 'cylinders']].plot(kind='box')"
   ]
  },
  {
   "cell_type": "code",
   "execution_count": null,
   "metadata": {},
   "outputs": [],
   "source": []
  }
 ],
 "metadata": {
  "kernelspec": {
   "display_name": "Python 3",
   "language": "python",
   "name": "python3"
  },
  "language_info": {
   "codemirror_mode": {
    "name": "ipython",
    "version": 3
   },
   "file_extension": ".py",
   "mimetype": "text/x-python",
   "name": "python",
   "nbconvert_exporter": "python",
   "pygments_lexer": "ipython3",
   "version": "3.7.4"
  }
 },
 "nbformat": 4,
 "nbformat_minor": 2
}
